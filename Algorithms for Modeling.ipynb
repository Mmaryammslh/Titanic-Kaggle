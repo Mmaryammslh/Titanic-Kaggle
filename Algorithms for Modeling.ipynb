{
 "cells": [
  {
   "cell_type": "code",
   "execution_count": 1,
   "id": "4eee0448",
   "metadata": {},
   "outputs": [],
   "source": [
    "import numpy as np\n",
    "import pandas as pd\n",
    "import matplotlib.pyplot as plt\n",
    "import seaborn as sns\n",
    "from warnings import filterwarnings\n",
    "filterwarnings('ignore')\n",
    "from sklearn.metrics import confusion_matrix, accuracy_score, precision_score, recall_score\n",
    "from sklearn.model_selection import cross_val_score, train_test_split, cross_val_predict"
   ]
  },
  {
   "cell_type": "code",
   "execution_count": 2,
   "id": "3f1647ba",
   "metadata": {},
   "outputs": [],
   "source": [
    "pd.set_option('display.max_columns', None)\n",
    "pd.set_option('display.max_rows', None)"
   ]
  },
  {
   "cell_type": "code",
   "execution_count": 7,
   "id": "443189dd",
   "metadata": {},
   "outputs": [],
   "source": [
    "X_N = pd.read_csv(r'D:\\data science\\taitanic\\cleandata.csv')"
   ]
  },
  {
   "cell_type": "code",
   "execution_count": 8,
   "id": "8fcf9af6",
   "metadata": {},
   "outputs": [],
   "source": [
    "df = pd.read_csv(r'D:\\data science\\taitanic\\train.csv')"
   ]
  },
  {
   "cell_type": "code",
   "execution_count": 9,
   "id": "42abacdc",
   "metadata": {},
   "outputs": [],
   "source": [
    "Y = df['Survived']"
   ]
  },
  {
   "cell_type": "code",
   "execution_count": 10,
   "id": "04585b2a",
   "metadata": {},
   "outputs": [
    {
     "name": "stdout",
     "output_type": "stream",
     "text": [
      "0.8283137397487174\n",
      "{'criterion': 'gini', 'max_depth': 6, 'max_features': 0.9, 'min_samples_split': 4}\n"
     ]
    }
   ],
   "source": [
    "from sklearn.model_selection import cross_val_score, train_test_split, cross_val_predict\n",
    "from sklearn.ensemble import RandomForestClassifier\n",
    "from sklearn.model_selection import GridSearchCV\n",
    "RForest = RandomForestClassifier(random_state=2020, n_estimators=120, class_weight={1:0.6 , 0:0.4})\n",
    "par = {'criterion':['gini','entropy'],\n",
    "       'max_depth':[2,3,4,5,6],\n",
    "       'min_samples_split':[3,4,5],\n",
    "        'max_features':[0.8,0.9,0.95]}\n",
    "       \n",
    "GS = GridSearchCV(RForest, param_grid=par, cv=4, scoring='accuracy')\n",
    "GS.fit(X_N, Y)\n",
    "print(GS.best_score_)\n",
    "print(GS.best_params_)"
   ]
  },
  {
   "cell_type": "code",
   "execution_count": 12,
   "id": "4d7cf574",
   "metadata": {},
   "outputs": [
    {
     "data": {
      "image/png": "[encoded data removed]",
      "text/plain": [
       "<Figure size 432x288 with 1 Axes>"
      ]
     },
     "metadata": {
      "needs_background": "light"
     },
     "output_type": "display_data"
    }
   ],
   "source": [
    "distortions = []\n",
    "K = range(1,10)\n",
    "for k in K:\n",
    "    model = KMeans(random_state=2022, n_clusters=k, max_iter=200)\n",
    "    model.fit(X_N)\n",
    "    distortions.append(model.inertia_)\n",
    "\n",
    "plt.plot(K, distortions, 'bx-')\n",
    "plt.xlabel('k')\n",
    "plt.ylabel('Distortion')\n",
    "plt.title('The Elbow Method showing the optimal k')\n",
    "plt.show()"
   ]
  },
  {
   "cell_type": "code",
   "execution_count": 13,
   "id": "ca044222",
   "metadata": {},
   "outputs": [
    {
     "data": {
      "image/png": "[encoded data removed]",
      "text/plain": [
       "<Figure size 432x288 with 1 Axes>"
      ]
     },
     "metadata": {
      "needs_background": "light"
     },
     "output_type": "display_data"
    }
   ],
   "source": [
    "sil = []\n",
    "from sklearn.metrics import silhouette_score\n",
    "for K in range(2,11):\n",
    "    model = KMeans(n_clusters=K)\n",
    "    model.fit(X_N)\n",
    "    L = model.labels_\n",
    "    sil.append(silhouette_score(X_N, L))\n",
    "plt.plot(range(2,11), sil)\n",
    "plt.xlabel('k')\n",
    "plt.ylabel('Silhouette Score')\n",
    "plt.title('Silhouette Score Results')\n",
    "plt.show()"
   ]
  },
  {
   "cell_type": "code",
   "execution_count": 21,
   "id": "f409b319",
   "metadata": {},
   "outputs": [],
   "source": [
    "from sklearn.cluster import KMeans\n",
    "kmeans_model = KMeans(random_state=2022, n_clusters=3, max_iter=200)\n",
    "kmeans_model.fit(X_N)\n",
    "L = kmeans_model.labels_"
   ]
  },
  {
   "cell_type": "code",
   "execution_count": 22,
   "id": "873ee38a",
   "metadata": {},
   "outputs": [],
   "source": [
    "df['cluster'] = L"
   ]
  },
  {
   "cell_type": "code",
   "execution_count": 23,
   "id": "b50b7a3b",
   "metadata": {},
   "outputs": [
    {
     "data": {
      "text/plain": [
       "1    130\n",
       "0     62\n",
       "Name: Survived, dtype: int64"
      ]
     },
     "execution_count": 23,
     "metadata": {},
     "output_type": "execute_result"
    }
   ],
   "source": [
    "df[df['cluster'] == 1]['Survived'].value_counts()"
   ]
  },
  {
   "cell_type": "code",
   "execution_count": 24,
   "id": "18271714",
   "metadata": {},
   "outputs": [
    {
     "data": {
      "text/plain": [
       "1    146\n",
       "0     77\n",
       "Name: Survived, dtype: int64"
      ]
     },
     "execution_count": 24,
     "metadata": {},
     "output_type": "execute_result"
    }
   ],
   "source": [
    "df[df['cluster'] == 2]['Survived'].value_counts()"
   ]
  },
  {
   "cell_type": "code",
   "execution_count": 25,
   "id": "fa45e275",
   "metadata": {},
   "outputs": [],
   "source": [
    "df.loc[df['cluster']==2,'cluster'] = 1"
   ]
  },
  {
   "cell_type": "code",
   "execution_count": 27,
   "id": "9b6a193b",
   "metadata": {},
   "outputs": [
    {
     "data": {
      "text/plain": [
       "0    410\n",
       "1     66\n",
       "Name: Survived, dtype: int64"
      ]
     },
     "execution_count": 27,
     "metadata": {},
     "output_type": "execute_result"
    }
   ],
   "source": [
    "df[df['cluster'] == 0]['Survived'].value_counts()"
   ]
  },
  {
   "cell_type": "code",
   "execution_count": 28,
   "id": "14e55d51",
   "metadata": {},
   "outputs": [
    {
     "name": "stdout",
     "output_type": "stream",
     "text": [
      "[[410 139]\n",
      " [ 66 276]]\n",
      "0.7699214365881033\n"
     ]
    }
   ],
   "source": [
    "L = df['cluster']\n",
    "print(confusion_matrix(Y, L))\n",
    "print(accuracy_score(Y, L))"
   ]
  },
  {
   "cell_type": "code",
   "execution_count": 29,
   "id": "85c69bee",
   "metadata": {},
   "outputs": [],
   "source": [
    "from sklearn.cluster import KMeans\n",
    "kmeans_model = KMeans(random_state=2022, n_clusters=2, max_iter=200)\n",
    "kmeans_model.fit(X_N)\n",
    "L = kmeans_model.labels_"
   ]
  },
  {
   "cell_type": "code",
   "execution_count": 30,
   "id": "afed0cbe",
   "metadata": {},
   "outputs": [
    {
     "name": "stdout",
     "output_type": "stream",
     "text": [
      "[[474  75]\n",
      " [194 148]]\n",
      "0.6980920314253648\n"
     ]
    }
   ],
   "source": [
    "print(confusion_matrix(Y, L))\n",
    "print(accuracy_score(Y, L))"
   ]
  },
  {
   "cell_type": "code",
   "execution_count": 31,
   "id": "08503891",
   "metadata": {},
   "outputs": [
    {
     "data": {
      "text/plain": [
       "GridSearchCV(cv=4, estimator=KNeighborsClassifier(),\n",
       "             param_grid={'n_neighbors': [6, 5, 8, 9, 10, 11, 12, 13, 14, 20,\n",
       "                                         17],\n",
       "                         'weights': ['uniform', 'distance']},\n",
       "             scoring='accuracy')"
      ]
     },
     "execution_count": 31,
     "metadata": {},
     "output_type": "execute_result"
    }
   ],
   "source": [
    "from sklearn.model_selection import GridSearchCV\n",
    "from sklearn.neighbors import KNeighborsClassifier\n",
    "KNN = KNeighborsClassifier()\n",
    "par = {'weights':['uniform','distance'],\n",
    "        'n_neighbors':[6,5,8,9,10,11,12,13,14,20,17]}\n",
    "GS = GridSearchCV(KNN, param_grid=par, cv=4, scoring='accuracy')\n",
    "GS.fit(X_N, Y)"
   ]
  },
  {
   "cell_type": "code",
   "execution_count": 32,
   "id": "bb6f7de0",
   "metadata": {},
   "outputs": [
    {
     "name": "stdout",
     "output_type": "stream",
     "text": [
      "0.8136993495737891\n",
      "{'n_neighbors': 12, 'weights': 'uniform'}\n"
     ]
    }
   ],
   "source": [
    "print(GS.best_score_)\n",
    "print(GS.best_params_)"
   ]
  },
  {
   "cell_type": "code",
   "execution_count": 33,
   "id": "629221a3",
   "metadata": {},
   "outputs": [],
   "source": [
    "from sklearn.tree import DecisionTreeClassifier\n",
    "tree = DecisionTreeClassifier(random_state=2020,criterion= 'entropy', max_depth= 6, min_samples_leaf= 1, min_samples_split=4)     \n",
    "pred_tree = cross_val_predict(tree, X_N, Y, cv=5)\n"
   ]
  },
  {
   "cell_type": "code",
   "execution_count": 34,
   "id": "b5b42462",
   "metadata": {},
   "outputs": [
    {
     "name": "stdout",
     "output_type": "stream",
     "text": [
      "[[475  74]\n",
      " [ 99 243]]\n",
      "0.8058361391694725\n"
     ]
    }
   ],
   "source": [
    "print(confusion_matrix(Y, pred_tree))\n",
    "print(accuracy_score(Y, pred_tree))"
   ]
  },
  {
   "cell_type": "code",
   "execution_count": 36,
   "id": "a3c7e8b4",
   "metadata": {},
   "outputs": [
    {
     "name": "stdout",
     "output_type": "stream",
     "text": [
      "0.8125782733406052\n",
      "{'C': 100, 'degree': 3, 'kernel': 'poly'}\n"
     ]
    }
   ],
   "source": [
    "from sklearn.svm import SVC\n",
    "SV_model = SVC(class_weight='balanced')\n",
    "par = {'C':[10,100,150,200,0.05,0.5],\n",
    "       'degree':[2,3,4,5],\n",
    "       'kernel':['poly']}\n",
    "      \n",
    "\n",
    "GS = GridSearchCV(SV_model, param_grid=par, cv=4, scoring='accuracy')\n",
    "GS.fit(X_N, Y)\n",
    "print(GS.best_score_)\n",
    "print(GS.best_params_)"
   ]
  },
  {
   "cell_type": "code",
   "execution_count": 37,
   "id": "d1e5af84",
   "metadata": {},
   "outputs": [
    {
     "name": "stdout",
     "output_type": "stream",
     "text": [
      "0.7835841313269494\n",
      "{'C': 0.1, 'gamma': 1, 'kernel': 'rbf'}\n"
     ]
    }
   ],
   "source": [
    "from sklearn.svm import SVC\n",
    "SV_model = SVC(class_weight='balanced')\n",
    "# kernel='linear', 'poly', 'rbf'\n",
    "par = [\n",
    "       {'C':[0.1,1,10,100],\n",
    "       'gamma':[1,0.1,0.001,0.0001],\n",
    "       'kernel':['rbf']},\n",
    "       {'C':[0.1,1,10,100],\n",
    "       'kernel':['linear']},\n",
    "        {'C':[0.1,1,10,100],\n",
    "       'degree':[2,3],\n",
    "       'kernel':['poly']}\n",
    "      ]\n",
    "\n",
    "GS = GridSearchCV(SV_model, param_grid=par, cv=4, scoring='recall')\n",
    "GS.fit(X_N, Y)\n",
    "print(GS.best_score_)\n",
    "print(GS.best_params_)"
   ]
  },
  {
   "cell_type": "code",
   "execution_count": 38,
   "id": "c689c67a",
   "metadata": {},
   "outputs": [
    {
     "name": "stdout",
     "output_type": "stream",
     "text": [
      "[[490  59]\n",
      " [201 141]]\n",
      "0.7081930415263749\n"
     ]
    }
   ],
   "source": [
    "from sklearn.neural_network import MLPClassifier\n",
    "MLP = MLPClassifier(max_iter=200, random_state=2020, verbose=0, validation_fraction=0.1, \n",
    "                    activation='relu', hidden_layer_sizes=(4,2), early_stopping=True, n_iter_no_change=5,\n",
    "                    learning_rate_init=0.01, learning_rate='invscaling')\n",
    "pred_NN = cross_val_predict(MLP, X_N, Y, cv=5)\n",
    "print(confusion_matrix(Y, pred_NN))\n",
    "print(accuracy_score(Y, pred_NN))"
   ]
  },
  {
   "cell_type": "code",
   "execution_count": 40,
   "id": "4a7d8744",
   "metadata": {},
   "outputs": [
    {
     "name": "stdout",
     "output_type": "stream",
     "text": [
      "0.8114232209737828\n",
      "{'C': 0.030673510835226868, 'penalty': 'l2', 'solver': 'newton-cg'}\n"
     ]
    }
   ],
   "source": [
    "from scipy.stats import loguniform\n",
    "from sklearn.linear_model import LogisticRegression\n",
    "from sklearn.model_selection import StratifiedKFold\n",
    "from sklearn.model_selection import RandomizedSearchCV\n",
    "model = LogisticRegression()\n",
    "\n",
    "cv = StratifiedKFold(n_splits=10)\n",
    "\n",
    "space = dict()\n",
    "space['solver'] = ['newton-cg', 'lbfgs', 'liblinear']\n",
    "space['penalty'] = ['none', 'l1', 'l2', 'elasticnet']\n",
    "space['C'] = loguniform(1e-5, 100)\n",
    "\n",
    "RS = RandomizedSearchCV(model, space, n_iter=200, scoring='accuracy', cv=cv, random_state=1)\n",
    "\n",
    "RS.fit(X_N, Y)\n",
    "print(RS.best_score_)\n",
    "print(RS.best_params_)"
   ]
  },
  {
   "cell_type": "code",
   "execution_count": 41,
   "id": "6b6d1c5d",
   "metadata": {},
   "outputs": [],
   "source": [
    "from mlxtend.classifier import EnsembleVoteClassifier"
   ]
  },
  {
   "cell_type": "code",
   "execution_count": 42,
   "id": "419319bf",
   "metadata": {},
   "outputs": [
    {
     "name": "stdout",
     "output_type": "stream",
     "text": [
      "Requirement already satisfied: mlxtend==0.18.0 in c:\\users\\mmari\\anaconda3\\lib\\site-packages (0.18.0)\n",
      "Requirement already satisfied: numpy>=1.16.2 in c:\\users\\mmari\\anaconda3\\lib\\site-packages (from mlxtend==0.18.0) (1.21.5)\n",
      "Requirement already satisfied: scikit-learn>=0.20.3 in c:\\users\\mmari\\anaconda3\\lib\\site-packages (from mlxtend==0.18.0) (1.0.2)\n",
      "Requirement already satisfied: matplotlib>=3.0.0 in c:\\users\\mmari\\anaconda3\\lib\\site-packages (from mlxtend==0.18.0) (3.5.1)\n",
      "Requirement already satisfied: setuptools in c:\\users\\mmari\\anaconda3\\lib\\site-packages (from mlxtend==0.18.0) (61.2.0)\n",
      "Requirement already satisfied: joblib>=0.13.2 in c:\\users\\mmari\\anaconda3\\lib\\site-packages (from mlxtend==0.18.0) (1.1.0)\n",
      "Requirement already satisfied: scipy>=1.2.1 in c:\\users\\mmari\\anaconda3\\lib\\site-packages (from mlxtend==0.18.0) (1.7.3)\n",
      "Requirement already satisfied: pandas>=0.24.2 in c:\\users\\mmari\\anaconda3\\lib\\site-packages (from mlxtend==0.18.0) (1.4.2)\n",
      "Requirement already satisfied: pyparsing>=2.2.1 in c:\\users\\mmari\\anaconda3\\lib\\site-packages (from matplotlib>=3.0.0->mlxtend==0.18.0) (3.0.4)\n",
      "Requirement already satisfied: pillow>=6.2.0 in c:\\users\\mmari\\anaconda3\\lib\\site-packages (from matplotlib>=3.0.0->mlxtend==0.18.0) (9.0.1)\n",
      "Requirement already satisfied: fonttools>=4.22.0 in c:\\users\\mmari\\anaconda3\\lib\\site-packages (from matplotlib>=3.0.0->mlxtend==0.18.0) (4.25.0)\n",
      "Requirement already satisfied: python-dateutil>=2.7 in c:\\users\\mmari\\anaconda3\\lib\\site-packages (from matplotlib>=3.0.0->mlxtend==0.18.0) (2.8.2)\n",
      "Requirement already satisfied: kiwisolver>=1.0.1 in c:\\users\\mmari\\anaconda3\\lib\\site-packages (from matplotlib>=3.0.0->mlxtend==0.18.0) (1.3.2)\n",
      "Requirement already satisfied: cycler>=0.10 in c:\\users\\mmari\\anaconda3\\lib\\site-packages (from matplotlib>=3.0.0->mlxtend==0.18.0) (0.11.0)\n",
      "Requirement already satisfied: packaging>=20.0 in c:\\users\\mmari\\anaconda3\\lib\\site-packages (from matplotlib>=3.0.0->mlxtend==0.18.0) (21.3)\n",
      "Requirement already satisfied: pytz>=2020.1 in c:\\users\\mmari\\anaconda3\\lib\\site-packages (from pandas>=0.24.2->mlxtend==0.18.0) (2021.3)\n",
      "Requirement already satisfied: six>=1.5 in c:\\users\\mmari\\anaconda3\\lib\\site-packages (from python-dateutil>=2.7->matplotlib>=3.0.0->mlxtend==0.18.0) (1.16.0)\n",
      "Requirement already satisfied: threadpoolctl>=2.0.0 in c:\\users\\mmari\\anaconda3\\lib\\site-packages (from scikit-learn>=0.20.3->mlxtend==0.18.0) (2.2.0)\n"
     ]
    }
   ],
   "source": [
    "!pip install mlxtend==0.18.0"
   ]
  },
  {
   "cell_type": "code",
   "execution_count": 44,
   "id": "0cfda09e",
   "metadata": {},
   "outputs": [
    {
     "name": "stdout",
     "output_type": "stream",
     "text": [
      "0.7901261691042621\n"
     ]
    }
   ],
   "source": [
    "from sklearn.ensemble import BaggingClassifier\n",
    "bclf = BaggingClassifier(base_estimator=SV_model, n_estimators=20, max_samples=0.9, random_state=2020)\n",
    "scores = cross_val_score(bclf, X_N, Y, cv=5, scoring='accuracy')\n",
    "print(scores.mean())"
   ]
  },
  {
   "cell_type": "code",
   "execution_count": 45,
   "id": "bb5205ce",
   "metadata": {},
   "outputs": [
    {
     "name": "stdout",
     "output_type": "stream",
     "text": [
      "0.7811436821291822\n"
     ]
    }
   ],
   "source": [
    "from mlxtend.classifier import EnsembleVoteClassifier\n",
    "from sklearn.linear_model import LogisticRegression\n",
    "from sklearn.svm import SVC\n",
    "\n",
    "clf1 = SVC(class_weight={1:0.7 , 0:0.3}, C=0.1, gamma= 1, kernel='rbf')\n",
    "clf2 = SVC(class_weight={1:0.7 , 0:0.3}, C=100, degree= 3, kernel='poly')\n",
    "clf3 = LogisticRegression(C=0.03,penalty='l2',solver='newton-cg')\n",
    "\n",
    "vclf = EnsembleVoteClassifier(clfs=[clf1, clf2, clf3], weights=[1.5,1.5,2], voting='hard')\n",
    "scores = cross_val_score(vclf, X_N, Y, cv=5, scoring='accuracy')\n",
    "print(scores.mean())"
   ]
  },
  {
   "cell_type": "code",
   "execution_count": null,
   "id": "28b4af1d",
   "metadata": {},
   "outputs": [],
   "source": []
  }
 ],
 "metadata": {
  "kernelspec": {
   "display_name": "Python 3 (ipykernel)",
   "language": "python",
   "name": "python3"
  },
  "language_info": {
   "codemirror_mode": {
    "name": "ipython",
    "version": 3
   },
   "file_extension": ".py",
   "mimetype": "text/x-python",
   "name": "python",
   "nbconvert_exporter": "python",
   "pygments_lexer": "ipython3",
   "version": "3.9.12"
  }
 },
 "nbformat": 4,
 "nbformat_minor": 5
}
